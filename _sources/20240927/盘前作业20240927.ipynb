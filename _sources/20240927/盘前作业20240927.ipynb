{
 "cells": [
  {
   "cell_type": "markdown",
   "id": "a206c9ba-db36-4c9c-a747-c246487efffb",
   "metadata": {},
   "source": [
    "# 概览(Brief):20240927\n",
    "2024-9-27"
   ]
  },
  {
   "cell_type": "markdown",
   "id": "dac8aa05-86bd-43c3-b158-bf57724946b2",
   "metadata": {},
   "source": [
    "## 1. 新闻\n",
    "###  1.1 新浪财经\n",
    "#### 1.1.1 国内重大消息：  \n",
    "[上交所系统延迟](https://finance.sina.com.cn/zt_d/sjsjyxtcxyc/)  \n",
    "[中央政治局会议7大点](https://finance.sina.com.cn/roll/2024-09-27/doc-incqpnsq1975749.shtml)  \n",
    "- 5%目标，稳增长硬约束\n",
    "- 货币政策逆周期加大\n",
    "- 房地产止跌回稳\n",
    "- 支持股市和居民财富，支持上市公司并购重组\n",
    "- 规范涉企执法，创造良好营商环境\n",
    "- 促销费惠民政策加大\n",
    "- 引资稳资\n",
    "\n",
    "#### 1.1.2 国际市场重大消息\n",
    "美国市场道琼斯盘整  \n",
    "![道琼斯盘整](Dj.png)  \n",
    "\n",
    "纳指继续上涨\n",
    "![纳指继续回升](Nas.png)\n"
   ]
  },
  {
   "cell_type": "markdown",
   "id": "68d3fba5-7515-4d29-ae69-e2a0771f50d6",
   "metadata": {},
   "source": [
    "## 2. 板块热点\n",
    "### 2.1 昨日热点10大板块\n"
   ]
  },
  {
   "cell_type": "markdown",
   "id": "0996335c-c438-4ce5-915e-255db94e85c9",
   "metadata": {},
   "source": [
    "钢铁和酿酒已经至少持续两天了\n"
   ]
  }
 ],
 "metadata": {
  "kernelspec": {
   "display_name": "Python 3 (ipykernel)",
   "language": "python",
   "name": "python3"
  },
  "language_info": {
   "codemirror_mode": {
    "name": "ipython",
    "version": 3
   },
   "file_extension": ".py",
   "mimetype": "text/x-python",
   "name": "python",
   "nbconvert_exporter": "python",
   "pygments_lexer": "ipython3",
   "version": "3.11.5"
  }
 },
 "nbformat": 4,
 "nbformat_minor": 5
}
