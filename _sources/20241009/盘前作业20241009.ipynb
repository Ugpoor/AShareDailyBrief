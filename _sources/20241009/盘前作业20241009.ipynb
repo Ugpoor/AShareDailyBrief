{
 "cells": [
  {
   "cell_type": "markdown",
   "id": "a206c9ba-db36-4c9c-a747-c246487efffb",
   "metadata": {},
   "source": [
    "# 概览(Brief):20241009\n",
    "2024-10-09"
   ]
  },
  {
   "cell_type": "markdown",
   "id": "dac8aa05-86bd-43c3-b158-bf57724946b2",
   "metadata": {
    "jp-MarkdownHeadingCollapsed": true,
    "tags": []
   },
   "source": [
    "## 1. 新闻\n",
    "###  1.1 新浪财经\n",
    "#### 1.1.1 国内重大消息：  \n",
    "无\n",
    "\n",
    "#### 1.1.2 国际市场重大消息\n",
    "\n",
    "恒生股票回落\n",
    "![hs.png](hs.png)\n",
    "\n",
    "美国市场道琼斯盘整  \n",
    "![道琼斯继续盘整](dj.png)  \n",
    "\n",
    "纳指上涨\n",
    "![nasdaq.png](nasdaq.png)\n",
    "#### 1.1.3 国内市场消息\n",
    "[央企破发破净关注列表](https://finance.sina.com.cn/jjxw/2024-10-09/doc-incrwynf0203098.shtml)  \n",
    "[融资融券规模增加](https://finance.sina.com.cn/stock/cpbd/2024-10-09/doc-incrwynf0208384.shtml)     \n",
    "9月30日及10月8日两个交易日，客户融资买入动力明显增强。中证金融公司昨日公布最新两融数据显示，截至9月30日，A股融资买入额2847.11亿元，较9月27日1518.09亿元，增加1329亿，增长幅度达88%。而9月27日相较26日的增幅仅为41%。有券商透露，8日的融资买入额是前一交易日的4倍。  \n",
    "[90,00后入场](https://finance.sina.com.cn/jjxw/2024-10-09/doc-incrwynf0208526.shtml)  \n",
    "[A股三季度报开始，两个超额收益方向](https://finance.sina.com.cn/zt_d/subject-1728431166/)  \n",
    "中欧基金旗下基金经理周蔚文，可能产生超额收益的有两个方向，一是今明两年经营趋势向上的行业，这些行业景气度向上，在过去熊市过程中定价并不充分，市场总是担心未来出现负面的信息，压制了股价上涨，熊市心态结束后，这类股票还有上涨空间；第二类是会受益于本轮经济政策的方向，最主要是促进内需和惠民生相结合的政策，过去有家电、汽车以旧换新，未来还会有基本民生保障、养老、生育受益的低端消费与服务、必需消费与服务行业。“另外，还包括受益促进房地产市场止跌回稳增量政策的行业。受益提振资本市场，告别熊市受益的相关行业或在未来一段时间也将有表现。”"
   ]
  },
  {
   "cell_type": "markdown",
   "id": "68d3fba5-7515-4d29-ae69-e2a0771f50d6",
   "metadata": {},
   "source": [
    "## 2. 板块热点\n",
    "### 2.1 昨日热点10大板块\n"
   ]
  },
  {
   "cell_type": "markdown",
   "id": "0996335c-c438-4ce5-915e-255db94e85c9",
   "metadata": {},
   "source": [
    "钢铁和酿酒已经至少持续两天了\n"
   ]
  }
 ],
 "metadata": {
  "kernelspec": {
   "display_name": "Python 3 (ipykernel)",
   "language": "python",
   "name": "python3"
  },
  "language_info": {
   "codemirror_mode": {
    "name": "ipython",
    "version": 3
   },
   "file_extension": ".py",
   "mimetype": "text/x-python",
   "name": "python",
   "nbconvert_exporter": "python",
   "pygments_lexer": "ipython3",
   "version": "3.11.5"
  }
 },
 "nbformat": 4,
 "nbformat_minor": 5
}
