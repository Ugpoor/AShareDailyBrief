{
 "cells": [
  {
   "cell_type": "markdown",
   "id": "add44a98-839d-4efe-84bd-5bfa047c31e2",
   "metadata": {},
   "source": [
    "# 盘前作业自动化Beta\n",
    "2024-10-10"
   ]
  },
  {
   "cell_type": "markdown",
   "id": "386dfae0-156a-45fc-b900-46b48a297f0c",
   "metadata": {},
   "source": [
    "## 一、根据模板建立当日盘前作业\n",
    "将template文件夹复制并取名今天日期字符串，替换相应文件名部分。"
   ]
  },
  {
   "cell_type": "code",
   "execution_count": 2,
   "id": "284d4ee8-29bf-4d72-a274-4d940fa1aeaa",
   "metadata": {
    "tags": []
   },
   "outputs": [],
   "source": [
    "import os\n",
    "import shutil\n",
    "from datetime import datetime\n",
    "\n",
    "# 获取今天日期\n",
    "today = datetime.today().strftime(\"%Y%m%d\")"
   ]
  },
  {
   "cell_type": "code",
   "execution_count": 3,
   "id": "feab1a58-13de-42ba-8f4b-bfe7b79e3e64",
   "metadata": {
    "tags": []
   },
   "outputs": [
    {
     "name": "stdout",
     "output_type": "stream",
     "text": [
      "已创建新文件夹： 20241028\n",
      "已重命名 盘前作业_今天日期_.ipynb 为 盘前作业20241028.ipynb\n",
      "已重命名 盘前作业_今天日期_-checkpoint.ipynb 为 盘前作业20241028-checkpoint.ipynb\n",
      "完成盘前作业初始化\n"
     ]
    }
   ],
   "source": [
    "# 原始模板文件夹和目标文件夹的路径\n",
    "template_folder = \"template\"\n",
    "target_folder = today\n",
    "\n",
    "# 复制模板文件夹到目标文件夹\n",
    "if not os.path.exists(target_folder):\n",
    "    shutil.copytree(template_folder, target_folder)\n",
    "    print(\"已创建新文件夹：\", target_folder)\n",
    "\n",
    "    # 遍历源文件夹中的所有文件和文件夹\n",
    "    for root, dirs, files in os.walk(target_folder):\n",
    "        for name in files + dirs:\n",
    "            # 判断文件名或文件夹名是否包含\"_今天日期_\"\n",
    "            if \"_今天日期_\" in name:\n",
    "                # 替换为新文件夹名\n",
    "                new_name = name.replace(\"_今天日期_\", target_folder)\n",
    "                # 构建原始路径和目标路径\n",
    "                src_path = os.path.join(root, name)\n",
    "                dest_path = os.path.join(root, new_name)\n",
    "                # 重命名文件或文件夹\n",
    "                os.rename(src_path, dest_path)\n",
    "                print(f\"已重命名 {name} 为 {new_name}\")\n",
    "\n",
    "    print(\"完成盘前作业初始化\")\n",
    "else:\n",
    "    print('已经存在同名文件夹，请删除后重试。')"
   ]
  },
  {
   "cell_type": "markdown",
   "id": "5b5118b6-f916-498a-8f84-6c63934889a7",
   "metadata": {},
   "source": [
    "## 二、每日盘前作业=>pages book"
   ]
  },
  {
   "cell_type": "markdown",
   "id": "7b525519-50fb-43d0-bae2-f2b1039a5d0f",
   "metadata": {
    "tags": []
   },
   "source": [
    "##### import os\n",
    "import shutil\n",
    "from datetime import datetime\n",
    "import subprocess\n",
    "\n",
    "source_dir = \"/Users/mac/Downloads/同步空间/notebook/薛猫选股/盘前作业\"\n",
    "target_dir = \"/Users/mac/Downloads/同步空间/notebook/薛猫选股/AShareDailyBrief\"\n",
    "gh_pages_dir = \"/Users/mac/Downloads/同步空间/notebook/github/AShareDailyBrief\"\n",
    "\n",
    "# 获取目录列表\n",
    "directories = [dirname for dirname in os.listdir(source_dir) if os.path.isdir(os.path.join(source_dir, dirname)) and dirname != \"template\"]\n",
    "\n",
    "# 移动目录并存储目录名到filenames列表\n",
    "filenames = []\n",
    "for directory in directories:\n",
    "    if directory == today:\n",
    "        directory_path = os.path.join(source_dir, directory)\n",
    "        target_path = os.path.join(target_dir, directory)\n",
    "        shutil.move(directory_path, target_path)\n",
    "        filenames.append(directory)\n",
    "\n",
    "# 修改_toc.yml文件\n",
    "toc_file = os.path.join(target_dir, \"_toc.yml\")\n",
    "with open(toc_file, \"a\") as f:\n",
    "    for filename in filenames:\n",
    "        line = f\"- file: {filename}/盘前作业{filename}\\n\"\n",
    "        f.write(line)\n",
    "        \n",
    "# 运行bash命令\n",
    "bash_command = 'jupyter-book build /Users/mac/Downloads/同步空间/notebook/薛猫选股/AShareDailyBrief && cp -nr /Users/mac/Downloads/同步空间/notebook/薛猫选股/AShareDailyBrief/* /Users/mac/Downloads/同步空间/notebook/github/AShareDailyBrief && cd /Users/mac/Downloads/同步空间/notebook/github/AShareDailyBrief && git add . && git commit -S -m \"Daily report publish.\" && git push origin main && ghp-import -n -p -f _build/html'\n",
    "subprocess.run(bash_command, shell=True, check=True, cwd=gh_pages_dir)\n",
    "\n",
    "print('完成电子书发布，请检查网站：https://ugpoor.github.io/AShareDailyBrief/intro.html')\n"
   ]
  },
  {
   "cell_type": "code",
   "execution_count": null,
   "id": "1d0e5de2-24ef-4a2e-a4c0-ef1a0201a01f",
   "metadata": {},
   "outputs": [],
   "source": []
  }
 ],
 "metadata": {
  "kernelspec": {
   "display_name": "Python 3 (ipykernel)",
   "language": "python",
   "name": "python3"
  },
  "language_info": {
   "codemirror_mode": {
    "name": "ipython",
    "version": 3
   },
   "file_extension": ".py",
   "mimetype": "text/x-python",
   "name": "python",
   "nbconvert_exporter": "python",
   "pygments_lexer": "ipython3",
   "version": "3.11.5"
  }
 },
 "nbformat": 4,
 "nbformat_minor": 5
}
