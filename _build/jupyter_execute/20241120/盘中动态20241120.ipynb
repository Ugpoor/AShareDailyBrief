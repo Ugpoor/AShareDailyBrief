{
 "cells": [
  {
   "cell_type": "markdown",
   "id": "a206c9ba-db36-4c9c-a747-c246487efffb",
   "metadata": {},
   "source": [
    "# 盘中动态:20241120"
   ]
  },
  {
   "cell_type": "code",
   "execution_count": 1,
   "id": "5e11f6ab-120f-4e7e-9df0-2deb75fc2c0a",
   "metadata": {
    "tags": []
   },
   "outputs": [],
   "source": [
    "import nbimporter\n",
    "from 盘前作业20241120 import plotStock\n",
    "\n",
    "repday='20241120'"
   ]
  },
  {
   "cell_type": "markdown",
   "id": "54ee1f84-0f1b-4974-9be8-0443e50ea7b1",
   "metadata": {},
   "source": [
    "## 1. 今日板块热点\n"
   ]
  },
  {
   "cell_type": "markdown",
   "id": "f2a2f2d0-b6ef-458b-9342-3905c91ea030",
   "metadata": {},
   "source": [
    "![今日涨幅国泰君安APP](gtja.png)\n",
    "\n",
    "定时任务运行器：集合竞价和开盘前30分钟"
   ]
  },
  {
   "cell_type": "code",
   "execution_count": 2,
   "id": "227cf66a-77ca-49a1-aeb1-f414df41f11e",
   "metadata": {
    "tags": []
   },
   "outputs": [],
   "source": [
    "import akshare as ak\n",
    "\n",
    "symbol='600839'\n",
    "# 获取股票数据\n",
    "df = ak.stock_bid_ask_em(symbol=symbol)\n",
    "\n",
    "# 转换为字典\n",
    "data_dict = df.set_index('item').to_dict()['value']"
   ]
  },
  {
   "cell_type": "code",
   "execution_count": 3,
   "id": "da6ee0bf-ad76-404d-9e52-2ceb942a8f85",
   "metadata": {
    "tags": []
   },
   "outputs": [
    {
     "data": {
      "text/plain": [
       "{'sell_5': 12.08,\n",
       " 'sell_5_vol': 111200.0,\n",
       " 'sell_4': 12.07,\n",
       " 'sell_4_vol': 76300.0,\n",
       " 'sell_3': 12.06,\n",
       " 'sell_3_vol': 72800.0,\n",
       " 'sell_2': 12.05,\n",
       " 'sell_2_vol': 248900.0,\n",
       " 'sell_1': 12.04,\n",
       " 'sell_1_vol': 220600.0,\n",
       " 'buy_1': 12.03,\n",
       " 'buy_1_vol': 141400.0,\n",
       " 'buy_2': 12.02,\n",
       " 'buy_2_vol': 241500.0,\n",
       " 'buy_3': 12.01,\n",
       " 'buy_3_vol': 221200.0,\n",
       " 'buy_4': 12.0,\n",
       " 'buy_4_vol': 668100.0,\n",
       " 'buy_5': 11.99,\n",
       " 'buy_5_vol': 79000.0,\n",
       " '最新': 12.04,\n",
       " '均价': 11.89,\n",
       " '涨幅': -0.41,\n",
       " '涨跌': -0.05,\n",
       " '总手': 2832858.0,\n",
       " '金额': 3368044635.0,\n",
       " '换手': 6.14,\n",
       " '量比': 0.92,\n",
       " '最高': 12.25,\n",
       " '最低': 11.72,\n",
       " '今开': 11.86,\n",
       " '昨收': 12.09,\n",
       " '涨停': 13.3,\n",
       " '跌停': 10.88,\n",
       " '外盘': 1307806.0,\n",
       " '内盘': 1525052.0}"
      ]
     },
     "execution_count": 3,
     "metadata": {},
     "output_type": "execute_result"
    }
   ],
   "source": [
    "data_dict"
   ]
  },
  {
   "cell_type": "code",
   "execution_count": 4,
   "id": "c41fb0ae-2dc2-4bcd-9264-8b8cf227c434",
   "metadata": {},
   "outputs": [
    {
     "ename": "NameError",
     "evalue": "name 'ThreadPoolExecutor' is not defined",
     "output_type": "error",
     "traceback": [
      "\u001b[0;31m---------------------------------------------------------------------------\u001b[0m",
      "\u001b[0;31mNameError\u001b[0m                                 Traceback (most recent call last)",
      "Cell \u001b[0;32mIn[4], line 42\u001b[0m\n\u001b[1;32m     36\u001b[0m         s\u001b[38;5;241m.\u001b[39mrun(\u001b[38;5;124m\"\"\"\u001b[39m\n\u001b[1;32m     37\u001b[0m \u001b[38;5;124m        append!(loadTable(\u001b[39m\u001b[38;5;124m\"\u001b[39m\u001b[38;5;124mdfs://Quote\u001b[39m\u001b[38;5;124m\"\u001b[39m\u001b[38;5;124m, \u001b[39m\u001b[38;5;124m\"\u001b[39m\u001b[38;5;124mt\u001b[39m\u001b[38;5;124m\"\u001b[39m\u001b[38;5;124m), data)\u001b[39m\n\u001b[1;32m     38\u001b[0m \u001b[38;5;124m        \u001b[39m\u001b[38;5;124m\"\"\"\u001b[39m)\n\u001b[1;32m     40\u001b[0m \u001b[38;5;28;01mwhile\u001b[39;00m \u001b[38;5;28;01mTrue\u001b[39;00m:\n\u001b[1;32m     41\u001b[0m     \u001b[38;5;66;03m# 使用多线程获取多个股票代码的数据\u001b[39;00m\n\u001b[0;32m---> 42\u001b[0m     \u001b[38;5;28;01mwith\u001b[39;00m ThreadPoolExecutor(max_workers\u001b[38;5;241m=\u001b[39m\u001b[38;5;28mlen\u001b[39m(symbols)) \u001b[38;5;28;01mas\u001b[39;00m executor:\n\u001b[1;32m     43\u001b[0m         executor\u001b[38;5;241m.\u001b[39mmap(fetch_and_store, symbols)\n\u001b[1;32m     45\u001b[0m     \u001b[38;5;66;03m# 每3秒检查一次\u001b[39;00m\n",
      "\u001b[0;31mNameError\u001b[0m: name 'ThreadPoolExecutor' is not defined"
     ]
    }
   ],
   "source": [
    "import datetime\n",
    "\n",
    "# 股票代码列表\n",
    "symbols = [\"stock_code1\", \"stock_code2\", \"stock_code3\"]  # 替换为实际股票代码\n",
    "\n",
    "def is_within_trading_hours(current_time):\n",
    "    # 定义交易时间段\n",
    "    morning_start = current_time.replace(hour=9, minute=15, second=0, microsecond=0)\n",
    "    morning_end = current_time.replace(hour=11, minute=30, second=0, microsecond=0)\n",
    "    afternoon_start = current_time.replace(hour=13, minute=0, second=0, microsecond=0)\n",
    "    afternoon_end = current_time.replace(hour=15, minute=0, microsecond=0)\n",
    "    \n",
    "    return (morning_start <= current_time <= morning_end) or (afternoon_start <= current_time <= afternoon_end)\n",
    "\n",
    "def fetch_and_store(symbol):\n",
    "    # 获取当前时间\n",
    "    current_time = datetime.now()\n",
    "    print(current_time)\n",
    "\n",
    "    if is_within_trading_hours(current_time):\n",
    "        # 获取股票数据\n",
    "        df = ak.stock_bid_ask_em(symbol=symbol)\n",
    "\n",
    "        # 转换为字典\n",
    "        data_dict = df.set_index('item').to_dict()['value']\n",
    "\n",
    "        # 添加时间戳和股票代码到数据字典\n",
    "        data_dict['timestamp'] = current_time\n",
    "        data_dict['sym'] = symbol\n",
    "\n",
    "        # 转换数据为 DataFrame\n",
    "        transformed_df = pd.DataFrame([data_dict])\n",
    "\n",
    "        # 将数据插入到 DolphinDB\n",
    "        s.upload({\"data\": transformed_df})\n",
    "        s.run(\"\"\"\n",
    "        append!(loadTable(\"dfs://Quote\", \"t\"), data)\n",
    "        \"\"\")\n",
    "\n",
    "while True:\n",
    "    # 使用多线程获取多个股票代码的数据\n",
    "    with ThreadPoolExecutor(max_workers=len(symbols)) as executor:\n",
    "        executor.map(fetch_and_store, symbols)\n",
    "\n",
    "    # 每3秒检查一次\n",
    "    time.sleep(3)"
   ]
  },
  {
   "cell_type": "markdown",
   "id": "ecab410e-74c0-4f41-be16-7b9ff0dabadd",
   "metadata": {},
   "source": [
    "#### 2.2.1 集合竞价概念板块排名"
   ]
  },
  {
   "cell_type": "code",
   "execution_count": 3,
   "id": "1b4a4343-6084-4855-886d-8a7591593940",
   "metadata": {
    "tags": []
   },
   "outputs": [],
   "source": [
    "import datetime\n",
    "import os\n",
    "import pandas as pd\n",
    "\n",
    "#记录排名\n",
    "# basename: 板块类型（概念板块、行业板块）\n",
    "# start_time, end_time: 排名时间段\n",
    "# sector: 板块名称\n",
    "def recordRank(basename,start_time,end_time):\n",
    "    now = datetime.datetime.now()\n",
    "    tStr = end_time.strftime(\"%Y%m%d%H%M\")\n",
    "    csvfile=f'{basename}{tStr}.txt'\n",
    "    if now.time() < end_time and now.time() >= start_time:\n",
    "        if basename=='conceptRank':\n",
    "            rank=ak.stock_board_concept_name_em()\n",
    "        elif basename=='industryRank':\n",
    "            rank=ak.stock_board_industry_name_em()\n",
    "        rank.to_csv(csvfile)\n",
    "    else:\n",
    "        if os.path.exists(csvfile):\n",
    "            rank=pd.read_csv(csvfile)\n",
    "        else:\n",
    "            print('非指定时间段，没有数据源.')\n",
    "            rank=pd.DataFrame()\n",
    "    if not rank.empty:\n",
    "        mvtotal=rank['总市值'].sum()\n",
    "        rank['市值比']=rank['总市值']/mvtotal\n",
    "        rank['上涨家数%']=rank['上涨家数']/(rank['上涨家数']+rank['下跌家数'])\n",
    "        columns=['排名','板块名称','板块代码','涨跌幅','市值比','换手率','上涨家数%','领涨股票','领涨股票-涨跌幅']\n",
    "        rank=rank[columns]\n",
    "    return rank\n",
    "\n",
    "#排名靠前的板块的股票明细排名\n",
    "# sectorRankDf: 板块排名DataFrame(recordRank生成)\n",
    "# sectorNum,stockNum: 返回板块数、股票数\n",
    "def top5sectorStocks(basename,start_time,end_time,sectorRankDf,sectorNum=5,stockNum=5):\n",
    "    top5={}\n",
    "    now = datetime.datetime.now()\n",
    "    tStr = start_time.strftime(\"%Y%m%d%H%M\")\n",
    "    if sectorRankDf.empty:\n",
    "        print('非指定时间段，没有数据源。')\n",
    "    else:\n",
    "        print('排名前5领涨板块成分股列表。')\n",
    "        for sym in sectorRankDf['板块名称'].to_list()[:5]:\n",
    "            csvfile=f'{basename}_{sym}{tStr}.txt'\n",
    "            if now.time() < end_time and now.time() >= start_time:\n",
    "                if basename=='conceptRank':\n",
    "                    top5[sym]=ak.stock_board_concept_cons_em(sym)\n",
    "                else:\n",
    "                    top5[sym]=ak.stock_board_industry_cons_em(sym)\n",
    "                top5[sym].to_csv(csvfile)\n",
    "            else:\n",
    "                if os.path.exists(csvfile):\n",
    "                    top5[sym]=pd.read_csv(csvfile)\n",
    "                else:\n",
    "                    print('No record stored and not available from source.')\n",
    "                    top5[sym]=pd.DataFrame()\n",
    "\n",
    "            if not top5[sym].empty:\n",
    "                atotal=top5[sym]['成交额'].sum()\n",
    "                top5[sym]['成交额比']=top5[sym]['成交额']/atotal\n",
    "                columns=['代码','名称','涨跌幅','成交额','换手率','市盈率-动态','市净率']\n",
    "                top5[sym]=top5[sym][columns][:stockNum]\n",
    "                print(f'板块：{sym}:\\n{top5[sym]}\\n\\n')\n",
    "    return top5   "
   ]
  },
  {
   "cell_type": "code",
   "execution_count": 4,
   "id": "61244c8c-12a6-4e4a-ba8e-b121f22e60b1",
   "metadata": {
    "tags": []
   },
   "outputs": [
    {
     "name": "stdout",
     "output_type": "stream",
     "text": [
      "非指定时间段，没有数据源.\n"
     ]
    },
    {
     "data": {
      "text/html": [
       "<div>\n",
       "<style scoped>\n",
       "    .dataframe tbody tr th:only-of-type {\n",
       "        vertical-align: middle;\n",
       "    }\n",
       "\n",
       "    .dataframe tbody tr th {\n",
       "        vertical-align: top;\n",
       "    }\n",
       "\n",
       "    .dataframe thead th {\n",
       "        text-align: right;\n",
       "    }\n",
       "</style>\n",
       "<table border=\"1\" class=\"dataframe\">\n",
       "  <thead>\n",
       "    <tr style=\"text-align: right;\">\n",
       "      <th></th>\n",
       "    </tr>\n",
       "  </thead>\n",
       "  <tbody>\n",
       "  </tbody>\n",
       "</table>\n",
       "</div>"
      ],
      "text/plain": [
       "Empty DataFrame\n",
       "Columns: []\n",
       "Index: []"
      ]
     },
     "execution_count": 4,
     "metadata": {},
     "output_type": "execute_result"
    }
   ],
   "source": [
    "#当天集合竞价阶段概念板块排名\n",
    "basename='conceptRank'\n",
    "start_time = datetime.time(9, 15)\n",
    "end_time = datetime.time(9, 31)\n",
    "rank0=recordRank(basename,start_time,end_time)\n",
    "rank0.head(20)"
   ]
  },
  {
   "cell_type": "code",
   "execution_count": 5,
   "id": "da991c88-55ae-4ecd-b860-26f2a78c7532",
   "metadata": {},
   "outputs": [
    {
     "name": "stdout",
     "output_type": "stream",
     "text": [
      "非指定时间段，没有数据源。\n"
     ]
    }
   ],
   "source": [
    "top5_concept_stocks=top5sectorStocks(basename,start_time,end_time,rank0)"
   ]
  },
  {
   "cell_type": "markdown",
   "id": "946eabd5-09c5-43e3-9ea9-189ae7361f7a",
   "metadata": {},
   "source": [
    "#### 2.2.3 开盘后15分钟概念板块排名"
   ]
  },
  {
   "cell_type": "code",
   "execution_count": 6,
   "id": "2e0f4104-09bd-4b38-b6c2-38752caead11",
   "metadata": {
    "tags": []
   },
   "outputs": [
    {
     "name": "stdout",
     "output_type": "stream",
     "text": [
      "非指定时间段，没有数据源.\n"
     ]
    },
    {
     "data": {
      "text/html": [
       "<div>\n",
       "<style scoped>\n",
       "    .dataframe tbody tr th:only-of-type {\n",
       "        vertical-align: middle;\n",
       "    }\n",
       "\n",
       "    .dataframe tbody tr th {\n",
       "        vertical-align: top;\n",
       "    }\n",
       "\n",
       "    .dataframe thead th {\n",
       "        text-align: right;\n",
       "    }\n",
       "</style>\n",
       "<table border=\"1\" class=\"dataframe\">\n",
       "  <thead>\n",
       "    <tr style=\"text-align: right;\">\n",
       "      <th></th>\n",
       "    </tr>\n",
       "  </thead>\n",
       "  <tbody>\n",
       "  </tbody>\n",
       "</table>\n",
       "</div>"
      ],
      "text/plain": [
       "Empty DataFrame\n",
       "Columns: []\n",
       "Index: []"
      ]
     },
     "execution_count": 6,
     "metadata": {},
     "output_type": "execute_result"
    }
   ],
   "source": [
    "start_time = datetime.time(9, 31)\n",
    "end_time = datetime.time(9, 52)\n",
    "rank1=recordRank(basename,start_time,end_time)\n",
    "rank1.head(20)"
   ]
  },
  {
   "cell_type": "markdown",
   "id": "0324f083-1157-4191-bb60-4443a44c7f4d",
   "metadata": {},
   "source": [
    "排名前5概念板块领涨成分股"
   ]
  },
  {
   "cell_type": "code",
   "execution_count": 7,
   "id": "545d5951-2173-45a4-9297-dac2eac14ae4",
   "metadata": {},
   "outputs": [
    {
     "name": "stdout",
     "output_type": "stream",
     "text": [
      "非指定时间段，没有数据源。\n"
     ]
    }
   ],
   "source": [
    "top5_concept_stocks=top5sectorStocks(basename,start_time,end_time,rank1)"
   ]
  },
  {
   "cell_type": "markdown",
   "id": "d7d27298-9f3f-4ef4-bf16-8a617c414a31",
   "metadata": {},
   "source": [
    "#### 2.2.3 集合竞价行业板块涨跌幅"
   ]
  },
  {
   "cell_type": "code",
   "execution_count": 8,
   "id": "344dba64-7f4d-4139-b94f-79194ebdd327",
   "metadata": {
    "tags": []
   },
   "outputs": [
    {
     "name": "stdout",
     "output_type": "stream",
     "text": [
      "非指定时间段，没有数据源.\n"
     ]
    },
    {
     "data": {
      "text/html": [
       "<div>\n",
       "<style scoped>\n",
       "    .dataframe tbody tr th:only-of-type {\n",
       "        vertical-align: middle;\n",
       "    }\n",
       "\n",
       "    .dataframe tbody tr th {\n",
       "        vertical-align: top;\n",
       "    }\n",
       "\n",
       "    .dataframe thead th {\n",
       "        text-align: right;\n",
       "    }\n",
       "</style>\n",
       "<table border=\"1\" class=\"dataframe\">\n",
       "  <thead>\n",
       "    <tr style=\"text-align: right;\">\n",
       "      <th></th>\n",
       "    </tr>\n",
       "  </thead>\n",
       "  <tbody>\n",
       "  </tbody>\n",
       "</table>\n",
       "</div>"
      ],
      "text/plain": [
       "Empty DataFrame\n",
       "Columns: []\n",
       "Index: []"
      ]
     },
     "execution_count": 8,
     "metadata": {},
     "output_type": "execute_result"
    }
   ],
   "source": [
    "#当天集合竞价到开盘后30分钟涨跌幅排名\n",
    "basename='industryRank'\n",
    "start_time = datetime.time(9, 15)\n",
    "end_time = datetime.time(9, 31)\n",
    "rank3=recordRank(basename,start_time,end_time)\n",
    "rank3.head(20)"
   ]
  },
  {
   "cell_type": "markdown",
   "id": "ead3c443-a77d-4f35-8ca0-b97a412fd664",
   "metadata": {},
   "source": [
    "行业板块中成分股"
   ]
  },
  {
   "cell_type": "code",
   "execution_count": 9,
   "id": "e71e515f-ec72-424c-93b3-3260363057d5",
   "metadata": {
    "tags": []
   },
   "outputs": [
    {
     "name": "stdout",
     "output_type": "stream",
     "text": [
      "非指定时间段，没有数据源。\n"
     ]
    }
   ],
   "source": [
    "top5_industry_stocks=top5sectorStocks(basename,start_time,end_time,rank3)"
   ]
  },
  {
   "cell_type": "markdown",
   "id": "7279c1e9-b1f8-4bc7-8dc9-bfef14ed5c4a",
   "metadata": {},
   "source": [
    "#### 2.2.4 开盘15分钟行业板块涨跌幅"
   ]
  },
  {
   "cell_type": "code",
   "execution_count": 10,
   "id": "5ed0e1d1-01df-4956-9cf3-ea8ca02304a7",
   "metadata": {
    "tags": []
   },
   "outputs": [
    {
     "name": "stdout",
     "output_type": "stream",
     "text": [
      "非指定时间段，没有数据源.\n"
     ]
    },
    {
     "data": {
      "text/html": [
       "<div>\n",
       "<style scoped>\n",
       "    .dataframe tbody tr th:only-of-type {\n",
       "        vertical-align: middle;\n",
       "    }\n",
       "\n",
       "    .dataframe tbody tr th {\n",
       "        vertical-align: top;\n",
       "    }\n",
       "\n",
       "    .dataframe thead th {\n",
       "        text-align: right;\n",
       "    }\n",
       "</style>\n",
       "<table border=\"1\" class=\"dataframe\">\n",
       "  <thead>\n",
       "    <tr style=\"text-align: right;\">\n",
       "      <th></th>\n",
       "    </tr>\n",
       "  </thead>\n",
       "  <tbody>\n",
       "  </tbody>\n",
       "</table>\n",
       "</div>"
      ],
      "text/plain": [
       "Empty DataFrame\n",
       "Columns: []\n",
       "Index: []"
      ]
     },
     "execution_count": 10,
     "metadata": {},
     "output_type": "execute_result"
    }
   ],
   "source": [
    "basename='industryRank'\n",
    "start_time = datetime.time(9, 31)\n",
    "end_time = datetime.time(9, 51)\n",
    "rank4=recordRank(basename,start_time,end_time)\n",
    "rank4.head(20)"
   ]
  },
  {
   "cell_type": "markdown",
   "id": "6e48a59f-a3c5-41f0-ac06-291f6fbacf24",
   "metadata": {},
   "source": [
    "行业板块中成分股"
   ]
  },
  {
   "cell_type": "raw",
   "id": "e629c3fb-10e6-4e05-84c7-21220f113b91",
   "metadata": {
    "tags": []
   },
   "source": [
    "top5_industry_stocks=top5sectorStocks(basename,start_time,end_time,rank4)"
   ]
  },
  {
   "cell_type": "markdown",
   "id": "56857129-5332-4add-9dc6-bd893dcef382",
   "metadata": {},
   "source": [
    "### 2.2.5 集合竞价阶段涨停个股热点明细"
   ]
  },
  {
   "cell_type": "code",
   "execution_count": 11,
   "id": "0e50b096-f7ef-4361-9dd1-febc5f0365a9",
   "metadata": {
    "tags": []
   },
   "outputs": [],
   "source": [
    "#在指定时段获取涨停数据，若时间不在指定时段，则读取历史最后一次下载的记录。\n",
    "def stockLimitUp(start_time,end_time):\n",
    "    now = datetime.datetime.now()\n",
    "    tStr = end_time.strftime(\"%Y%m%d%H%M\")\n",
    "    csvfile=f'limitUp{tStr}.txt'\n",
    "    if now.time() < end_time and now.time() >= start_time:\n",
    "        rank=ak.stock_zh_a_spot_em()\n",
    "        rank.to_csv(csvfile)\n",
    "    else:\n",
    "        if os.path.exists(csvfile):\n",
    "            rank=pd.read_csv(csvfile)\n",
    "        else:\n",
    "            print('No record stored and not available from source.')\n",
    "            rank=pd.DataFrame()\n",
    "    if not rank.empty:\n",
    "        columns=['代码','名称','涨跌幅','量比','换手率','市盈率-动态','市净率','流通市值','涨速','5分钟涨跌','60日涨跌幅','年初至今涨跌幅']\n",
    "        rank=rank[columns].sort_values(by='涨跌幅', ascending=False)\n",
    "    return rank"
   ]
  },
  {
   "cell_type": "code",
   "execution_count": 12,
   "id": "bb32c4f2-7249-403f-9bf6-32931b8ae74f",
   "metadata": {
    "tags": []
   },
   "outputs": [
    {
     "name": "stdout",
     "output_type": "stream",
     "text": [
      "No record stored and not available from source.\n"
     ]
    },
    {
     "data": {
      "text/html": [
       "<div>\n",
       "<style scoped>\n",
       "    .dataframe tbody tr th:only-of-type {\n",
       "        vertical-align: middle;\n",
       "    }\n",
       "\n",
       "    .dataframe tbody tr th {\n",
       "        vertical-align: top;\n",
       "    }\n",
       "\n",
       "    .dataframe thead th {\n",
       "        text-align: right;\n",
       "    }\n",
       "</style>\n",
       "<table border=\"1\" class=\"dataframe\">\n",
       "  <thead>\n",
       "    <tr style=\"text-align: right;\">\n",
       "      <th></th>\n",
       "    </tr>\n",
       "  </thead>\n",
       "  <tbody>\n",
       "  </tbody>\n",
       "</table>\n",
       "</div>"
      ],
      "text/plain": [
       "Empty DataFrame\n",
       "Columns: []\n",
       "Index: []"
      ]
     },
     "execution_count": 12,
     "metadata": {},
     "output_type": "execute_result"
    }
   ],
   "source": [
    "start_time = datetime.time(9, 15)\n",
    "end_time = datetime.time(9, 31)\n",
    "openA = stockLimitUp(start_time,end_time)\n",
    "openA.head(50)"
   ]
  },
  {
   "cell_type": "markdown",
   "id": "9064899c-9cdb-4c83-a8d7-465266e107e1",
   "metadata": {},
   "source": [
    "### 2.2.6 开盘15分钟涨停个股热点明细\n"
   ]
  },
  {
   "cell_type": "code",
   "execution_count": 13,
   "id": "f4322918-4f59-4ae2-badc-b0927f54f69a",
   "metadata": {
    "tags": []
   },
   "outputs": [
    {
     "name": "stdout",
     "output_type": "stream",
     "text": [
      "No record stored and not available from source.\n"
     ]
    },
    {
     "data": {
      "text/html": [
       "<div>\n",
       "<style scoped>\n",
       "    .dataframe tbody tr th:only-of-type {\n",
       "        vertical-align: middle;\n",
       "    }\n",
       "\n",
       "    .dataframe tbody tr th {\n",
       "        vertical-align: top;\n",
       "    }\n",
       "\n",
       "    .dataframe thead th {\n",
       "        text-align: right;\n",
       "    }\n",
       "</style>\n",
       "<table border=\"1\" class=\"dataframe\">\n",
       "  <thead>\n",
       "    <tr style=\"text-align: right;\">\n",
       "      <th></th>\n",
       "    </tr>\n",
       "  </thead>\n",
       "  <tbody>\n",
       "  </tbody>\n",
       "</table>\n",
       "</div>"
      ],
      "text/plain": [
       "Empty DataFrame\n",
       "Columns: []\n",
       "Index: []"
      ]
     },
     "execution_count": 13,
     "metadata": {},
     "output_type": "execute_result"
    }
   ],
   "source": [
    "start_time = datetime.time(9, 31)\n",
    "end_time = datetime.time(9, 53)\n",
    "open15 = stockLimitUp(start_time,end_time)\n",
    "open15.head(50)"
   ]
  },
  {
   "cell_type": "markdown",
   "id": "e8d5ec08-c4bf-4692-91ee-586683b553ad",
   "metadata": {},
   "source": [
    "#### 2.2.7 板块动态评析\n",
    "\n",
    "本轮行情启动股票热点追踪（需要从历史行情中组合分析，现有股票涨停池昨日和今日都不稳定）"
   ]
  },
  {
   "cell_type": "code",
   "execution_count": 14,
   "id": "e9f67c86-0a7d-4330-aea9-23a7d43bb005",
   "metadata": {
    "tags": []
   },
   "outputs": [],
   "source": [
    "from datetime import datetime, timedelta\n",
    "\n",
    "def get_stock_zt_pool(start_date, end_date):\n",
    "    current_date = datetime.strptime(start_date, '%Y%m%d')\n",
    "    end_date = datetime.strptime(end_date, '%Y%m%d')\n",
    "    \n",
    "    concat_zt_df = pd.DataFrame()\n",
    "\n",
    "    while current_date <= end_date:\n",
    "        date_str = current_date.strftime('%Y%m%d')\n",
    "        try:\n",
    "            stock_zt_pool_strong_em_df = ak.stock_zt_pool_previous_em(date=date_str)\n",
    "            stock_zt_pool_strong_em_df['日期'] = pd.to_datetime(date_str)\n",
    "            concat_zt_df = pd.concat([concat_zt_df, stock_zt_pool_strong_em_df], ignore_index=True)\n",
    "        except Exception as e:\n",
    "            print(f\"Error fetching data for {date_str}: {e}\")\n",
    "        \n",
    "        current_date += timedelta(days=1)\n",
    "    \n",
    "    return concat_zt_df"
   ]
  },
  {
   "cell_type": "code",
   "execution_count": 15,
   "id": "daa55606-527d-4402-9dd8-c11937967a83",
   "metadata": {
    "tags": []
   },
   "outputs": [],
   "source": [
    "syclestart='20240925'\n",
    "#ak.stock_zt_pool_strong_em(date=syclestart)"
   ]
  },
  {
   "cell_type": "code",
   "execution_count": 16,
   "id": "fe7e688e-4976-4080-919e-b12561a1fa60",
   "metadata": {
    "tags": []
   },
   "outputs": [
    {
     "ename": "NameError",
     "evalue": "name 'lastday' is not defined",
     "output_type": "error",
     "traceback": [
      "\u001b[0;31m---------------------------------------------------------------------------\u001b[0m",
      "\u001b[0;31mNameError\u001b[0m                                 Traceback (most recent call last)",
      "Cell \u001b[0;32mIn[16], line 3\u001b[0m\n\u001b[1;32m      1\u001b[0m \u001b[38;5;66;03m#本轮行情启动日\u001b[39;00m\n\u001b[1;32m      2\u001b[0m syclestart\u001b[38;5;241m=\u001b[39m\u001b[38;5;124m'\u001b[39m\u001b[38;5;124m20240924\u001b[39m\u001b[38;5;124m'\u001b[39m\n\u001b[0;32m----> 3\u001b[0m result_df \u001b[38;5;241m=\u001b[39m get_stock_zt_pool(syclestart, lastday)\n\u001b[1;32m      4\u001b[0m result_df\n",
      "\u001b[0;31mNameError\u001b[0m: name 'lastday' is not defined"
     ]
    }
   ],
   "source": [
    "#本轮行情启动日\n",
    "syclestart='20240924'\n",
    "result_df = get_stock_zt_pool(syclestart, lastday)\n",
    "result_df"
   ]
  },
  {
   "cell_type": "markdown",
   "id": "2e84495d-1a86-49eb-8658-f2580ab5ec86",
   "metadata": {
    "tags": []
   },
   "source": [
    "## 4.个股市场\n"
   ]
  },
  {
   "cell_type": "markdown",
   "id": "0996335c-c438-4ce5-915e-255db94e85c9",
   "metadata": {},
   "source": [
    "### 4.1 跟进股票列表\n",
    "#### 4.1.1 历史K线"
   ]
  },
  {
   "cell_type": "code",
   "execution_count": null,
   "id": "108d6e95-babd-40dc-9b15-d1472206dcd8",
   "metadata": {
    "tags": []
   },
   "outputs": [],
   "source": [
    "def plotDcStockSingle(df,days):\n",
    "    OCHLVDict={'日期':'Date','开盘':'Open','收盘':'Close','最高':'High','最低':'Low','成交量':'Volume'}\n",
    "    print(f'{days}K线图')\n",
    "    plotStock(df.tail(days),OCHLVDict)"
   ]
  },
  {
   "cell_type": "code",
   "execution_count": null,
   "id": "73d85e5b-bac5-451c-930b-68dc7a3034c6",
   "metadata": {
    "tags": []
   },
   "outputs": [],
   "source": [
    "#根据代码获取股票信息\n",
    "#symbol:若是字符串，则返回单个股信息；若是列表，则遍历元素，返回相应列表。\n",
    "def getStockInfo(symbol):\n",
    "    if type(symbol).__name__=='str':\n",
    "        stocknamedf=ak.stock_individual_info_em(symbol=symbol)\n",
    "        stockname=stocknamedf.loc[stocknamedf['item']=='股票简称','value'][1]\n",
    "        stockIPO=stocknamedf.loc[stocknamedf['item']=='上市时间','value'][7]\n",
    "        stockIndustry=stocknamedf.loc[stocknamedf['item']=='行业','value'][6]\n",
    "        stockTAmount=stocknamedf.loc[stocknamedf['item']=='总股本','value'][2]\n",
    "        stockFAmount=stocknamedf.loc[stocknamedf['item']=='流通股','value'][3]\n",
    "        stockTValue=stocknamedf.loc[stocknamedf['item']=='总市值','value'][4]\n",
    "        stockFValue=stocknamedf.loc[stocknamedf['item']=='流通市值','value'][5]\n",
    "    else:\n",
    "        stockname,stockIPO,stockIndustry,stockTAmount,stockFAmount,stockTValue,stockFValue=[],[],[],[],[],[],[]\n",
    "        for sym in symbol:\n",
    "            stocknamedf=ak.stock_individual_info_em(symbol=sym)\n",
    "            stockname.append(stocknamedf.loc[stocknamedf['item']=='股票简称','value'][1])\n",
    "            stockIPO.append(stocknamedf.loc[stocknamedf['item']=='上市时间','value'][7])\n",
    "            stockIndustry.append(stocknamedf.loc[stocknamedf['item']=='行业','value'][6])\n",
    "            stockTAmount.append(stocknamedf.loc[stocknamedf['item']=='总股本','value'][2])\n",
    "            stockFAmount.append(stocknamedf.loc[stocknamedf['item']=='流通股','value'][3])\n",
    "            stockTValue.append(stocknamedf.loc[stocknamedf['item']=='总市值','value'][4])\n",
    "            stockFValue.append(stocknamedf.loc[stocknamedf['item']=='流通市值','value'][5])\n",
    "            \n",
    "    return {'名称':stockname,'IPO':stockIPO,'行业':stockIndustry,'总股本':stockTAmount,'流通股':stockFAmount,'总市值':stockTValue,'流通市值':stockFValue}\n",
    "\n",
    "#画指定周期的股票烛线图\n",
    "def plotDcStocks(stocksymb,periods):\n",
    "    stockDict={}\n",
    "    for p in periods:\n",
    "        stockdf = ak.stock_zh_a_hist(symbol=stocksymb,period=p)\n",
    "        stockname=getStockInfo(stocksymb)['名称']\n",
    "        stockDict[p]=stockdf\n",
    "        print(f'{stockname}-周期：{p}\\n{stockdf}')\n",
    "        plotDcStockSingle(stockdf,100)\n",
    "    stockDict['name']=stockname\n",
    "    return stockDict"
   ]
  },
  {
   "cell_type": "code",
   "execution_count": null,
   "id": "74fdc62e-2596-4edb-afba-b497f2871695",
   "metadata": {
    "tags": []
   },
   "outputs": [],
   "source": [
    "stocksymb='300339'\n",
    "periods=['daily','weekly','monthly']\n",
    "stockDict=plotDcStocks(stocksymb,periods)"
   ]
  },
  {
   "cell_type": "markdown",
   "id": "3a4ebe99-3d81-4540-9ca3-8971c7f52e14",
   "metadata": {},
   "source": [
    "### 4.1.2 盘口信息汇总\n",
    "#### 4.1.2.1 成交和挂单明细"
   ]
  },
  {
   "cell_type": "markdown",
   "id": "d59a9bbf-078c-46a9-b326-9ff6de3b7bcf",
   "metadata": {},
   "source": [
    "获取腾讯当日历史分笔数据"
   ]
  },
  {
   "cell_type": "code",
   "execution_count": null,
   "id": "929a6cbf-9b88-4437-a8dd-9472d7669caa",
   "metadata": {
    "tags": []
   },
   "outputs": [],
   "source": [
    "# 根据code代码返回“交易所+代码” 信息，或者反过来\n",
    "def transferExSym(code):\n",
    "    if len(code)>6:\n",
    "        rescode=code[-6:]\n",
    "    else:\n",
    "        source={}\n",
    "        source['sh']=ak.stock_sh_a_spot_em()['代码'].to_list()\n",
    "        source['sz']=ak.stock_sz_a_spot_em()['代码'].to_list()\n",
    "        source['bj']=ak.stock_bj_a_spot_em()['代码'].to_list()\n",
    "        for k in source.keys():\n",
    "            if code in source[k]:\n",
    "                rescode=k+code\n",
    "                break\n",
    "    return rescode"
   ]
  },
  {
   "cell_type": "code",
   "execution_count": null,
   "id": "e3a9142a-7e6a-4cbe-83af-0428c50ab00e",
   "metadata": {
    "tags": []
   },
   "outputs": [],
   "source": [
    "import numpy as np\n",
    "import matplotlib.pyplot as plt\n",
    "\n",
    "#区分北交所和沪深股市，刻画市场深度。按照涨跌停板，作为极值，按照价格涨幅的measure度量区间\n",
    "def priceMarketDepth(df,measure=0.01):\n",
    "\n",
    "    open_price = df.loc[df['成交时间'] == '09:30:00', '成交价格'].iloc[0]\n",
    "\n",
    "    # 设置涨跌停板系数\n",
    "    if stocksymb == 'bj':\n",
    "        limit_factor = 0.2\n",
    "    else:\n",
    "        limit_factor = 0.1\n",
    "\n",
    "    # 计算最高价和最低价\n",
    "    high_price = open_price * (1 + limit_factor)\n",
    "    low_price = open_price * (1 - limit_factor)\n",
    "\n",
    "    # 定义价格区间，每1%一档\n",
    "    price_bins = np.round(np.arange(low_price, high_price, (high_price - low_price) * measure),2)\n",
    "\n",
    "    # 将价格按照区间划分\n",
    "    df['价格区间'] = pd.cut(df['成交价格'], bins=price_bins, right=False)\n",
    "\n",
    "    # 按照价格区间汇总成交量\n",
    "    volume_summary = df.groupby('价格区间',observed=False)['成交量'].sum().reset_index()\n",
    "\n",
    "    # 新建 df['prop'] 列\n",
    "    df['prop'] = df['性质'].apply(lambda x: -1 if x == '卖盘' else (1 if x == '买盘' else 0))\n",
    "    \n",
    "    # 按照价格区间汇总成交量和 prop 之和\n",
    "    summary = df.groupby('价格区间',observed=False).agg({\n",
    "        '成交量': 'sum',\n",
    "        'prop': 'sum'\n",
    "    }).reset_index()\n",
    "    \n",
    "    # 提取价格区间的中点和边界\n",
    "    summary['价格'] = summary['价格区间'].apply(lambda x: round(x.mid,2))\n",
    "    summary['起始价格'] = summary['价格区间'].apply(lambda x: round(x.left,2))\n",
    "    summary['终止价格'] = summary['价格区间'].apply(lambda x: round(x.right,2))\n",
    "\n",
    "    # 分离买盘和卖盘数据\n",
    "    summary['买盘深度'] = summary['prop'].apply(lambda x: x if x > 0 else 0)\n",
    "    summary['卖盘深度'] = -summary['prop'].apply(lambda x: -x if x < 0 else 0)\n",
    "\n",
    "    # 绘制市场深度水平条形图\n",
    "    fig, ax = plt.subplots(figsize=(14, 21))\n",
    "\n",
    "    # 绘制买卖盘深度图\n",
    "    ax.barh(summary['价格'], summary['买盘深度'], color='green', label='buy')\n",
    "    ax.barh(summary['价格'], summary['卖盘深度'], color='red', label='sell')\n",
    "    \n",
    "    # 在图上标注区间价格的起始和终止价格\n",
    "    for index, row in summary.iterrows():\n",
    "        ax.text(row['买盘深度'] + max(summary['买盘深度'].max(), summary['卖盘深度'].max())*measure, row['价格'], f'{row[\"起始价格\"]:.2f}', va='center', ha='left', fontsize=8, color='black')\n",
    "        ax.text(-row['卖盘深度'] - max(summary['买盘深度'].max(), summary['卖盘深度'].max())*measure, row['价格'], f'{row[\"终止价格\"]:.2f}', va='center', ha='right', fontsize=8, color='black')\n",
    "\n",
    "    # 设置图表标题和标签\n",
    "    ax.set_title('Market Depth')\n",
    "    ax.set_xlabel('Depth(Amount)')\n",
    "    ax.set_ylabel('Price')\n",
    "    ax.legend()\n",
    "\n",
    "    \n",
    "    # 显示图表\n",
    "    plt.show()\n",
    "    \n",
    "    return summary"
   ]
  },
  {
   "cell_type": "code",
   "execution_count": null,
   "id": "f64ec3ab-0f8a-463a-a6c5-2e508705a1bc",
   "metadata": {
    "tags": []
   },
   "outputs": [],
   "source": [
    "from rich.console import Console\n",
    "from rich.table import Table\n",
    "\n",
    "#美观显示DataFrame表格\n",
    "class DataFramePretty(object):\n",
    "    def __init__(self, df: pd.DataFrame, min_max_cols=[]) -> None:\n",
    "        self.data = df\n",
    "        self.min_max_cols = min_max_cols\n",
    "\n",
    "    def __set_min_max_style(self, df: pd.DataFrame):\n",
    "        imax = self.data.idxmax()\n",
    "        imin = self.data.idxmin()\n",
    "\n",
    "        max_tmpl = \"[b on red3]{}[/b on red3]\"\n",
    "        min_tmpl = \"[i on green3]{}[/i on green3]\"\n",
    "\n",
    "        for col in self.min_max_cols:\n",
    "            col_idx = imax.index.tolist().index(col)\n",
    "            val = df.iloc[imax[col], col_idx]\n",
    "            df.iloc[imax[col], col_idx] = max_tmpl.format(val)\n",
    "\n",
    "            col_idx = imin.index.tolist().index(col)\n",
    "            val = df.iloc[imin[col], col_idx]\n",
    "            df.iloc[imin[col], col_idx] = min_tmpl.format(val)\n",
    "\n",
    "    def show(self):\n",
    "        table = Table(\n",
    "            title=\"DataFrame\",\n",
    "            title_style=\"i on dark_cyan\",\n",
    "            header_style=\"bold cyan\",\n",
    "        )\n",
    "\n",
    "        # self.data是原始数据\n",
    "        # df 是用来显示的数据\n",
    "        df = self.data.copy()\n",
    "        for col in df.columns:\n",
    "            df[col] = df[col].astype(\"str\")\n",
    "            table.add_column(col)\n",
    "\n",
    "        self.__set_min_max_style(df)\n",
    "\n",
    "        for idx in range(len(df)):\n",
    "            table.add_row(*df.iloc[idx].tolist())\n",
    "\n",
    "        console = Console()\n",
    "        console.print(table)"
   ]
  },
  {
   "cell_type": "code",
   "execution_count": null,
   "id": "377df2e4-b4cf-412a-98d5-7716c9526973",
   "metadata": {
    "tags": []
   },
   "outputs": [],
   "source": [
    "#剔除中性单以后，列出活跃买卖市场深度\n",
    "def plotActiveMarketDepth(stocksymbol):\n",
    "    \n",
    "    print(f'市场深度：{stocksymb}')\n",
    "    #一次性获得历史分笔数据（当天即当天之前的交易时间；隔天即昨天）\n",
    "    yesterdayTicks=ak.stock_zh_a_tick_tx_js(symbol=transferExSym(stocksymb))\n",
    "    \n",
    "    md=priceMarketDepth(yesterdayTicks)\n",
    "    md = md[(md['买盘深度'] != 0) | (md['卖盘深度'] != 0)]\n",
    "    mdp=DataFramePretty(md)\n",
    "    mdp.show()\n",
    "    return  md"
   ]
  },
  {
   "cell_type": "markdown",
   "id": "d69f5a4f-39e3-46d3-a5bd-036954dfb051",
   "metadata": {},
   "source": [
    "剔除中性盘以后，主动买卖盘的市场深度"
   ]
  },
  {
   "cell_type": "code",
   "execution_count": null,
   "id": "4792fff5-5b53-485c-a45d-fb0928a46cc3",
   "metadata": {
    "tags": []
   },
   "outputs": [],
   "source": [
    "plotActiveMarketDepth(stocksymb)"
   ]
  },
  {
   "cell_type": "markdown",
   "id": "2292686b-af85-47cf-8e34-7a3e0be04c7b",
   "metadata": {},
   "source": [
    "### 4.1.3 个股追踪\n",
    "追踪股票列表"
   ]
  },
  {
   "cell_type": "code",
   "execution_count": null,
   "id": "d7277f50-3096-4c0e-a689-e1170f696cb5",
   "metadata": {
    "tags": []
   },
   "outputs": [],
   "source": [
    "focusStocks=['300576','600839','600157','000717','002607','600127','600605','600217','300727','301421','002843','600968','300159','601688']\n",
    "getInfo=getStockInfo(focusStocks)\n",
    "Analist=pd.DataFrame({'代码':focusStocks,'名称':getInfo['名称'],'IPO':getInfo['IPO'],'行业':getInfo['行业'],'流通股':getInfo['流通股'],'总股本':getInfo['总股本']})\n",
    "Analist['流通股']=Analist['流通股'].astype(int)\n",
    "Analist['总股本']=Analist['总股本'].astype(int)\n",
    "Analist['流通率']=Analist['流通股']/Analist['总股本']\n",
    "Analist"
   ]
  },
  {
   "cell_type": "markdown",
   "id": "8b04f215-b90d-41f5-a035-7a9d4ccf0a07",
   "metadata": {},
   "source": [
    "时序数据库准备"
   ]
  },
  {
   "cell_type": "code",
   "execution_count": null,
   "id": "e5a2a661-e6d8-440a-8855-52b9a8543a05",
   "metadata": {
    "tags": []
   },
   "outputs": [],
   "source": [
    "import dolphindb as ddb\n",
    "from concurrent.futures import ThreadPoolExecutor\n",
    "import dolphindb.settings as keys\n",
    "\n",
    "s = ddb.session(\"localhost\", 8848, \"admin\", \"123456\")\n",
    "s.run(\"quote_tab = table(1:0, `timestamp`sym`sell_5`sell_5_vol`sell_4`sell_4_vol`sell_3`sell_3_vol`sell_2`sell_2_vol`sell_1`sell_1_vol`buy_1`buy_1_vol`buy_2`buy_2_vol`buy_3`buy_3_vol`buy_4`buy_4_vol`buy_5`buy_5_vol`最新`均价`涨幅`涨跌`总手`金额`换手`量比`最高`最低`今开`昨收`涨停`跌停`外盘`内盘, [TIMESTAMP, SYMBOL, DOUBLE, INT, DOUBLE, INT, DOUBLE, INT, DOUBLE, INT, DOUBLE, INT, DOUBLE, INT, DOUBLE, INT, DOUBLE, INT, DOUBLE, INT, DOUBLE, INT, DOUBLE, DOUBLE, DOUBLE, DOUBLE, DOUBLE, DOUBLE, DOUBLE, DOUBLE, DOUBLE, DOUBLE, DOUBLE, DOUBLE, DOUBLE, DOUBLE,DOUBLE,DOUBLE])\")\n",
    "quote_tab = s.table(data=\"quote_tab\")\n",
    "dbPath=\"dfs://quotes\"\n",
    "\n",
    "if not s.existsDatabase(dbPath):\n",
    "    db = s.database(dbPath=dbPath, partitionType=keys.LIST, partitions=focusStocks,engine='TSDB')\n",
    "    db.createTable(quote_tab, \"quotes\", [\"sym\"])\n",
    "    \n",
    "qt = s.table(dbPath=dbPath, data=\"quotes\")\n"
   ]
  },
  {
   "cell_type": "code",
   "execution_count": null,
   "id": "121f7048-ac1c-4af3-bc4e-8e816caf428a",
   "metadata": {
    "tags": []
   },
   "outputs": [],
   "source": [
    "stockCharts,marketDepths={},{}\n",
    "\n",
    "for f in focusStocks:\n",
    "    print('='*75)\n",
    "    stockCharts[f]=plotDcStocks(f,periods)\n",
    "    stockname=stockCharts[f]['name']\n",
    "    print(f'{stockname}（{f}）的市场深度：')\n",
    "    marketDepths[f]=plotActiveMarketDepth(f)\n",
    "    "
   ]
  },
  {
   "cell_type": "code",
   "execution_count": null,
   "id": "ef868003-b3fe-4d58-83b8-499f6ab601a2",
   "metadata": {},
   "outputs": [],
   "source": [
    "stock_bid_ask_em_df = ak.stock_bid_ask_em(symbol=\"600839\")\n",
    "stock_bid_ask_em_df"
   ]
  },
  {
   "cell_type": "code",
   "execution_count": null,
   "id": "3380d37e-eacc-49dd-a5b8-ad7633863f07",
   "metadata": {
    "tags": []
   },
   "outputs": [],
   "source": [
    "import akshare as ak\n",
    "import dolphindb as ddb\n",
    "import pandas as pd\n",
    "import time\n",
    "from datetime import datetime\n",
    "from concurrent.futures import ThreadPoolExecutor\n",
    "\n",
    "# 初始化 DolphinDB 连接\n",
    "s = ddb.session()\n",
    "s.connect(\"localhost\", 8848, \"admin\", \"123456\")  # 替换为实际的主机、端口、用户名和密码\n",
    "\n",
    "# 创建 DolphinDB 表\n",
    "s.run(\"\"\"\n",
    "if (existsDatabase(\"dfs://Quote\")) {\n",
    "    dropDatabase(\"dfs://Quote\")\n",
    "}\n",
    "t = table(1:0, `timestamp`sym`sell_5`sell_5_vol`sell_4`sell_4_vol`sell_3`sell_3_vol`sell_2`sell_2_vol`sell_1`sell_1_vol`buy_1`buy_1_vol`buy_2`buy_2_vol`buy_3`buy_3_vol`buy_4`buy_4_vol`buy_5`buy_5_vol`最新`均价`涨幅`涨跌`总手`金额`换手`量比`最高`最低`今开`昨收`涨停`跌停`外盘`内盘, [TIMESTAMP, SYMBOL, DOUBLE, DOUBLE, DOUBLE, DOUBLE, DOUBLE, DOUBLE, DOUBLE, DOUBLE, DOUBLE, DOUBLE, DOUBLE, DOUBLE, DOUBLE, DOUBLE, DOUBLE, DOUBLE, DOUBLE, DOUBLE, DOUBLE, DOUBLE, DOUBLE, DOUBLE, DOUBLE, DOUBLE, DOUBLE, DOUBLE, DOUBLE, DOUBLE, DOUBLE, DOUBLE, DOUBLE, DOUBLE, DOUBLE, DOUBLE])\n",
    "database(\"dfs://Quote\", VALUE, t)\n",
    "\"\"\")\n",
    "\n",
    "def is_within_trading_hours(current_time):\n",
    "    # 定义交易时间段\n",
    "    morning_start = current_time.replace(hour=9, minute=15, second=0, microsecond=0)\n",
    "    morning_end = current_time.replace(hour=11, minute=30, second=0, microsecond=0)\n",
    "    afternoon_start = current_time.replace(hour=13, minute=0, second=0, microsecond=0)\n",
    "    afternoon_end = current_time.replace(hour=15, minute=0, microsecond=0)\n",
    "    \n",
    "    return (morning_start <= current_time <= morning_end) or (afternoon_start <= current_time <= afternoon_end)\n",
    "\n",
    "def fetch_and_store(symbol):\n",
    "    # 获取当前时间\n",
    "    current_time = datetime.now()\n",
    "\n",
    "    if is_within_trading_hours(current_time):fgggttryy\n",
    "        # 获取股票数据\n",
    "        df = ak.stock_bid_ask_em(symbol=symbol)\n",
    "\n",
    "        # 转换为字典\n",
    "        data_dict = df.set_index('item').to_dict()['value']\n",
    "\n",
    "        # 添加时间戳和股票代码到数据字典\n",
    "        data_dict['timestamp'] = current_time\n",
    "        data_dict['sym'] = symbol\n",
    "\n",
    "        # 转换数据为 DataFrame\n",
    "        transformed_df = pd.DataFrame([data_dict])\n",
    "\n",
    "        # 将数据插入到 DolphinDB\n",
    "        s.upload({\"data\": transformed_df})\n",
    "        s.run(\"\"\"\n",
    "        append!(loadTable(\"dfs://Quote\", \"t\"), data)\n",
    "        \"\"\")]]\n",
    "        ]\n",
    "\n",
    "while True:\n",
    "    \n",
    "    # 使用多线程获取多个股票代码的数据\n",
    "    with ThreadPoolExecutor(max_workers=len(focusStocks)) as executor:\n",
    "        executor.map(fetch_and_store, focusStocks)\n",
    "\n",
    "    # 每3秒检查一次\n",
    "    time.sleep(3)\n"
   ]
  },
  {
   "cell_type": "code",
   "execution_count": null,
   "id": "90565a33-f0ca-41d1-8681-f5bcfc5f2c57",
   "metadata": {},
   "outputs": [],
   "source": []
  },
  {
   "cell_type": "code",
   "execution_count": null,
   "id": "5da58089-648c-47fc-8868-515f0e2c2a04",
   "metadata": {},
   "outputs": [],
   "source": []
  }
 ],
 "metadata": {
  "kernelspec": {
   "display_name": "Python 3 (ipykernel)",
   "language": "python",
   "name": "python3"
  },
  "language_info": {
   "codemirror_mode": {
    "name": "ipython",
    "version": 3
   },
   "file_extension": ".py",
   "mimetype": "text/x-python",
   "name": "python",
   "nbconvert_exporter": "python",
   "pygments_lexer": "ipython3",
   "version": "3.11.5"
  }
 },
 "nbformat": 4,
 "nbformat_minor": 5
}