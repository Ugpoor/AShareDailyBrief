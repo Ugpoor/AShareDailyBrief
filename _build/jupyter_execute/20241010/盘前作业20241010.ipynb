{
 "cells": [
  {
   "cell_type": "markdown",
   "id": "a206c9ba-db36-4c9c-a747-c246487efffb",
   "metadata": {},
   "source": [
    "# 概览(Brief):20241010\n",
    "2024-10-10"
   ]
  },
  {
   "cell_type": "markdown",
   "id": "dac8aa05-86bd-43c3-b158-bf57724946b2",
   "metadata": {
    "jp-MarkdownHeadingCollapsed": true,
    "tags": []
   },
   "source": [
    "## 1. 新闻\n",
    "###  1.1 新浪财经\n",
    "#### 1.1.1 国内重大消息：  \n",
    "无重大消息  \n",
    "![国内消息一览](nativenews.png)\n",
    "\n",
    "#### 1.1.2 国际重大消息：\n",
    "![国际消息一览](globalnews.png)\n",
    "[美债预期减少](https://finance.sina.com.cn/stock/hkstock/ggscyd/2024-10-09/doc-incrxeuh6455448.shtml)\n",
    "美债承压（昨天）；降息预期减少，市场预计力度低于预期。\n",
    "\n",
    "富时50期指，开盘仍有下跌迹象\n",
    "![fs.png](fs.png)\n",
    "\n",
    "恒生股票昨天继续回落，今天集合竞价有回升迹象。\n",
    "![hs.png](hs.png)\n",
    "\n",
    "美国市场道琼斯盘整  \n",
    "![道琼斯继续盘整](dj.png)  \n",
    "\n",
    "纳指继续上涨\n",
    "![nasdaq.png](nasdaq.png)\n",
    "\n",
    "### 1.2 市场消息\n",
    "[国泰君安-海通证券合并](https://finance.sina.com.cn/zt_d/subject-1725547704/) \n",
    "[国信-万和证券并购](https://finance.sina.com.cn/roll/2024-08-23/doc-inckpzkw3323138.shtml)\n",
    "\n"
   ]
  },
  {
   "cell_type": "markdown",
   "id": "68d3fba5-7515-4d29-ae69-e2a0771f50d6",
   "metadata": {},
   "source": [
    "## 2. 板块热点\n",
    "### 2.1 热点10大板块\n",
    "\n",
    "看到“拟减持”板块集合竞价拉高派发\n",
    "\n",
    "集合竞价时段热点（截图不清楚，拟减持板块居前涨幅）  \n",
    "![集合竞价热点板块](jhjj.png)\n",
    "开盘10分钟内热点（拟减持已经变负）  \n",
    "![开盘热点](kp.png)"
   ]
  },
  {
   "cell_type": "markdown",
   "id": "0996335c-c438-4ce5-915e-255db94e85c9",
   "metadata": {},
   "source": [
    "### 2.2 考虑医药板块\n",
    "开盘34分钟，医药板块走势。大盘承压。  \n",
    "![医药板块](ggzz.png)"
   ]
  },
  {
   "cell_type": "markdown",
   "id": "781d8b99-1aab-42b4-9135-4016bc378a91",
   "metadata": {},
   "source": [
    "## 3. 个股追踪\n",
    "### 3.1 国泰君安和海通合并追踪\n",
    "合并预案：\n",
    "根据周三公告，国泰君安 （02611.HK）将以换股方式吸收合并海通证券 （06837.HK），分别向海通证券股东发行国泰君安的A股和H股股票，海通证券与国泰君安股票的换股比例未1：0.62，拟发行股票将分别在上交所和港交所上市流动，海通证券的A股和H股股票相应予以注销，海通证券将终止上市。\n",
    "\n",
    "收购和被收购均涨停，补涨错过行情。\n",
    "![gtja](gtja.png)\n",
    "\n",
    "![htzq](htzq.png)\n",
    "\n",
    "其它传言股未见特异性\n",
    "\n",
    "国信\n",
    "![gx](gx.png)\n"
   ]
  },
  {
   "cell_type": "code",
   "execution_count": null,
   "id": "bd474413-b439-4e5e-a4cc-54ae392d5fa5",
   "metadata": {},
   "outputs": [],
   "source": []
  },
  {
   "cell_type": "code",
   "execution_count": null,
   "id": "65fa3c23-53e6-47ff-8fd7-ecf1604e3644",
   "metadata": {},
   "outputs": [],
   "source": []
  }
 ],
 "metadata": {
  "kernelspec": {
   "display_name": "Python 3 (ipykernel)",
   "language": "python",
   "name": "python3"
  },
  "language_info": {
   "codemirror_mode": {
    "name": "ipython",
    "version": 3
   },
   "file_extension": ".py",
   "mimetype": "text/x-python",
   "name": "python",
   "nbconvert_exporter": "python",
   "pygments_lexer": "ipython3",
   "version": "3.11.5"
  }
 },
 "nbformat": 4,
 "nbformat_minor": 5
}